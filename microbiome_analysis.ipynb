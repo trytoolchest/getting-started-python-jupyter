{
 "cells": [
  {
   "cell_type": "markdown",
   "id": "9a933b41-91b1-4e6c-93fe-531e2fe612bf",
   "metadata": {},
   "source": [
    "# Analyze next-gen sequencing data using Toolchest\n",
    "\n",
    "This notebook takes one 16S sample from an Illumina MiSeq run, runs it through Kraken 2 on Toolchest, and plots a rough sketch of the microbial composition of the sample.\n",
    "\n",
    "Time to run: ~3 minutes\n",
    "\n",
    "_Data from \"US Immigration Westernizes the Human Gut Microbiome\" (Vangay et. al, 2018) https://www.ncbi.nlm.nih.gov/pmc/articles/PMC6498444/)_"
   ]
  },
  {
   "cell_type": "code",
   "execution_count": null,
   "id": "d7432673-99f9-4a3c-8144-e9030ae09814",
   "metadata": {
    "tags": []
   },
   "outputs": [],
   "source": [
    "import matplotlib.pyplot as plt\n",
    "import toolchest_client as toolchest\n",
    "import pandas as pd"
   ]
  },
  {
   "cell_type": "code",
   "execution_count": null,
   "id": "56acc6b2-9697-4233-8670-8502f5455d19",
   "metadata": {},
   "outputs": [],
   "source": [
    "# If you don't have a key yet, you can get one for free at trytoolchest.com\n",
    "toolchest.set_key(\"YOUR_KEY_HERE\")"
   ]
  },
  {
   "cell_type": "code",
   "execution_count": null,
   "id": "c0f91bee-0657-41d3-91be-899891b3bfe5",
   "metadata": {},
   "outputs": [],
   "source": [
    "# Run Kraken 2 in the cloud – for taxonomic classification – via Toolchest\n",
    "toolchest.kraken2(\n",
    "    read_one=\"./ERR2836366_1.fastq\",\n",
    "    read_two=\"./ERR2836366_2.fastq\",\n",
    "    output_path=\"./output/\",\n",
    ")"
   ]
  },
  {
   "cell_type": "markdown",
   "id": "27b9304f-b4fb-418a-9630-998f742cbc91",
   "metadata": {},
   "source": [
    "## Plot results using pandas\n",
    "\n",
    "Uncomment the ranks below that you'd like to plot! If you want to tweak the plots, you can expand using the \"...\" icon below"
   ]
  },
  {
   "cell_type": "code",
   "execution_count": null,
   "id": "c176754c-ee2a-4296-b21d-67ae205c0095",
   "metadata": {},
   "outputs": [],
   "source": [
    "ranks = {\n",
    "#     \"P\": \"Phylum\",\n",
    "#     \"C\": \"Class\",\n",
    "#     \"O\": \"Order\",\n",
    "#     \"F\": \"Family\",\n",
    "    \"G\": \"Genus\",\n",
    "#     \"S\": \"Species\"\n",
    "}"
   ]
  },
  {
   "cell_type": "code",
   "execution_count": null,
   "id": "8e962b25-7fba-4b55-a463-268216f9139d",
   "metadata": {
    "jupyter": {
     "source_hidden": true
    },
    "tags": []
   },
   "outputs": [],
   "source": [
    "kraken2_report = pd.read_csv(\n",
    "    './output/kraken2_report.txt',\n",
    "    names=['% coverered', '# covered', '# assigned', 'Rank code', 'Taxa ID', 'Name'],\n",
    "    sep='\\t')\n",
    "rank_codes = set(kraken2_report['Rank code'].tolist())\n",
    "for rank in ranks.keys():\n",
    "    df_by_rank = kraken2_report.loc[kraken2_report['Rank code'] == rank].copy()\n",
    "    df_by_rank.loc[df_by_rank['# covered'] < 200, 'Name'] = 'Other'\n",
    "    df_by_rank = df_by_rank.groupby(\"Name\")[\"# covered\"].sum().reset_index()\n",
    "    df_by_rank.plot.pie(\n",
    "        y=\"# covered\",\n",
    "        labels=df_by_rank[\"Name\"],\n",
    "        legend=False,\n",
    "        ylabel='',\n",
    "        radius=2,\n",
    "        figsize=(4,4),\n",
    "        textprops = dict(\n",
    "            rotation_mode = 'anchor',\n",
    "            va='center',\n",
    "            fontsize=12,\n",
    "            weight='light',\n",
    "            family='sans-serif',\n",
    "        )\n",
    "    )\n",
    "    plt.title(\n",
    "        f\"Proportion of reads covering at a {ranks[rank].lower()} level\",\n",
    "        fontsize = 16,\n",
    "        weight=\"bold\",\n",
    "        pad=100\n",
    "    )"
   ]
  },
  {
   "cell_type": "markdown",
   "id": "d2e0caff-f9cc-4ead-9a55-049b888fe76a",
   "metadata": {},
   "source": [
    "## That's it! You can download and run this notebook on your computer, too\n",
    "\n",
    "Toolchest moves execution of intense bioinformatics software to the cloud. That means you can download this Jupyter notebook and run it on your computer – or wherever you run Python.\n",
    "\n",
    "You can download this notebook at [https://github.com/trytoolchest/getting-started-python-jupyter](https://github.com/trytoolchest/getting-started-python-jupyter)"
   ]
  },
  {
   "cell_type": "code",
   "execution_count": null,
   "id": "355acb86-00af-4ced-b0f6-507167b1da1c",
   "metadata": {},
   "outputs": [],
   "source": []
  }
 ],
 "metadata": {
  "kernelspec": {
   "display_name": "Python 3 (ipykernel)",
   "language": "python",
   "name": "python3"
  },
  "language_info": {
   "codemirror_mode": {
    "name": "ipython",
    "version": 3
   },
   "file_extension": ".py",
   "mimetype": "text/x-python",
   "name": "python",
   "nbconvert_exporter": "python",
   "pygments_lexer": "ipython3",
   "version": "3.9.13"
  }
 },
 "nbformat": 4,
 "nbformat_minor": 5
}
